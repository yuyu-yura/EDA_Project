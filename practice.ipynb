{
 "cells": [
  {
   "cell_type": "code",
   "execution_count": 1,
   "id": "93fa859f",
   "metadata": {},
   "outputs": [],
   "source": [
    "import pandas as pd\n",
    "import numpy as np\n",
    "\n",
    "import matplotlib.pyplot as plt\n",
    "import seaborn as sns"
   ]
  },
  {
   "cell_type": "code",
   "execution_count": null,
   "id": "22f3f726",
   "metadata": {},
   "outputs": [],
   "source": []
  },
  {
   "cell_type": "code",
   "execution_count": 2,
   "id": "665f0845",
   "metadata": {},
   "outputs": [],
   "source": [
    "a = pd.read_csv('smokingdataset.csv', encoding='cp949')"
   ]
  },
  {
   "cell_type": "code",
   "execution_count": 3,
   "id": "de4eb4e0",
   "metadata": {
    "scrolled": false
   },
   "outputs": [
    {
     "name": "stdout",
     "output_type": "stream",
     "text": [
      "<class 'pandas.core.frame.DataFrame'>\n",
      "RangeIndex: 991346 entries, 0 to 991345\n",
      "Data columns (total 25 columns):\n",
      " #   Column            Non-Null Count   Dtype  \n",
      "---  ------            --------------   -----  \n",
      " 0   case_id           991346 non-null  int64  \n",
      " 1   sex               991346 non-null  object \n",
      " 2   age               991346 non-null  int64  \n",
      " 3   height            991346 non-null  int64  \n",
      " 4   weight            991346 non-null  int64  \n",
      " 5   waistline         991346 non-null  float64\n",
      " 6   sight_left        991346 non-null  float64\n",
      " 7   sight_right       991346 non-null  float64\n",
      " 8   hear_left         991346 non-null  int64  \n",
      " 9   hear_right        991346 non-null  int64  \n",
      " 10  SBP               991346 non-null  int64  \n",
      " 11  DBP               991346 non-null  int64  \n",
      " 12  BLDS              991346 non-null  int64  \n",
      " 13  tot_chole         991346 non-null  int64  \n",
      " 14  HDL_chole         991346 non-null  int64  \n",
      " 15  LDL_chole         991346 non-null  int64  \n",
      " 16  triglyceride      991346 non-null  int64  \n",
      " 17  hemoglobin        991346 non-null  float64\n",
      " 18  urine_protein     991346 non-null  int64  \n",
      " 19  serum_creatinine  991346 non-null  float64\n",
      " 20  SGOT_AST          991346 non-null  int64  \n",
      " 21  SGOT_ALT          991346 non-null  int64  \n",
      " 22  gamma_GTP         991346 non-null  int64  \n",
      " 23  SMK_stat_type_cd  991346 non-null  int64  \n",
      " 24  DRK_YN            991346 non-null  object \n",
      "dtypes: float64(5), int64(18), object(2)\n",
      "memory usage: 189.1+ MB\n"
     ]
    }
   ],
   "source": [
    "a.info()"
   ]
  },
  {
   "cell_type": "code",
   "execution_count": 4,
   "id": "fb6fad68",
   "metadata": {},
   "outputs": [
    {
     "data": {
      "text/html": [
       "<div>\n",
       "<style scoped>\n",
       "    .dataframe tbody tr th:only-of-type {\n",
       "        vertical-align: middle;\n",
       "    }\n",
       "\n",
       "    .dataframe tbody tr th {\n",
       "        vertical-align: top;\n",
       "    }\n",
       "\n",
       "    .dataframe thead th {\n",
       "        text-align: right;\n",
       "    }\n",
       "</style>\n",
       "<table border=\"1\" class=\"dataframe\">\n",
       "  <thead>\n",
       "    <tr style=\"text-align: right;\">\n",
       "      <th></th>\n",
       "      <th>tot_chole</th>\n",
       "      <th>SMK_stat_type_cd</th>\n",
       "    </tr>\n",
       "  </thead>\n",
       "  <tbody>\n",
       "    <tr>\n",
       "      <th>0</th>\n",
       "      <td>193</td>\n",
       "      <td>1</td>\n",
       "    </tr>\n",
       "    <tr>\n",
       "      <th>1</th>\n",
       "      <td>228</td>\n",
       "      <td>3</td>\n",
       "    </tr>\n",
       "    <tr>\n",
       "      <th>2</th>\n",
       "      <td>136</td>\n",
       "      <td>1</td>\n",
       "    </tr>\n",
       "    <tr>\n",
       "      <th>3</th>\n",
       "      <td>201</td>\n",
       "      <td>1</td>\n",
       "    </tr>\n",
       "    <tr>\n",
       "      <th>4</th>\n",
       "      <td>199</td>\n",
       "      <td>1</td>\n",
       "    </tr>\n",
       "    <tr>\n",
       "      <th>...</th>\n",
       "      <td>...</td>\n",
       "      <td>...</td>\n",
       "    </tr>\n",
       "    <tr>\n",
       "      <th>991341</th>\n",
       "      <td>198</td>\n",
       "      <td>1</td>\n",
       "    </tr>\n",
       "    <tr>\n",
       "      <th>991342</th>\n",
       "      <td>133</td>\n",
       "      <td>1</td>\n",
       "    </tr>\n",
       "    <tr>\n",
       "      <th>991343</th>\n",
       "      <td>205</td>\n",
       "      <td>3</td>\n",
       "    </tr>\n",
       "    <tr>\n",
       "      <th>991344</th>\n",
       "      <td>122</td>\n",
       "      <td>1</td>\n",
       "    </tr>\n",
       "    <tr>\n",
       "      <th>991345</th>\n",
       "      <td>225</td>\n",
       "      <td>3</td>\n",
       "    </tr>\n",
       "  </tbody>\n",
       "</table>\n",
       "<p>991346 rows × 2 columns</p>\n",
       "</div>"
      ],
      "text/plain": [
       "        tot_chole  SMK_stat_type_cd\n",
       "0             193                 1\n",
       "1             228                 3\n",
       "2             136                 1\n",
       "3             201                 1\n",
       "4             199                 1\n",
       "...           ...               ...\n",
       "991341        198                 1\n",
       "991342        133                 1\n",
       "991343        205                 3\n",
       "991344        122                 1\n",
       "991345        225                 3\n",
       "\n",
       "[991346 rows x 2 columns]"
      ]
     },
     "execution_count": 4,
     "metadata": {},
     "output_type": "execute_result"
    }
   ],
   "source": [
    "df = a[[\"tot_chole\",\"SMK_stat_type_cd\"]]\n",
    "df"
   ]
  },
  {
   "cell_type": "code",
   "execution_count": 5,
   "id": "1cb66997",
   "metadata": {
    "scrolled": false
   },
   "outputs": [],
   "source": [
    "# df = a[[\"tot_chole\",\"HDL_chole\",\"LDL_chole\"]]\n",
    "# df\n",
    "#필요없"
   ]
  },
  {
   "cell_type": "code",
   "execution_count": 6,
   "id": "9bfeae0e",
   "metadata": {},
   "outputs": [
    {
     "data": {
      "text/html": [
       "<div>\n",
       "<style scoped>\n",
       "    .dataframe tbody tr th:only-of-type {\n",
       "        vertical-align: middle;\n",
       "    }\n",
       "\n",
       "    .dataframe tbody tr th {\n",
       "        vertical-align: top;\n",
       "    }\n",
       "\n",
       "    .dataframe thead th {\n",
       "        text-align: right;\n",
       "    }\n",
       "</style>\n",
       "<table border=\"1\" class=\"dataframe\">\n",
       "  <thead>\n",
       "    <tr style=\"text-align: right;\">\n",
       "      <th></th>\n",
       "      <th>tot_chole</th>\n",
       "      <th>SMK_stat_type_cd</th>\n",
       "    </tr>\n",
       "  </thead>\n",
       "  <tbody>\n",
       "    <tr>\n",
       "      <th>count</th>\n",
       "      <td>991346.000000</td>\n",
       "      <td>991346.000000</td>\n",
       "    </tr>\n",
       "    <tr>\n",
       "      <th>mean</th>\n",
       "      <td>195.557020</td>\n",
       "      <td>1.608122</td>\n",
       "    </tr>\n",
       "    <tr>\n",
       "      <th>std</th>\n",
       "      <td>38.660155</td>\n",
       "      <td>0.818507</td>\n",
       "    </tr>\n",
       "    <tr>\n",
       "      <th>min</th>\n",
       "      <td>30.000000</td>\n",
       "      <td>1.000000</td>\n",
       "    </tr>\n",
       "    <tr>\n",
       "      <th>25%</th>\n",
       "      <td>169.000000</td>\n",
       "      <td>1.000000</td>\n",
       "    </tr>\n",
       "    <tr>\n",
       "      <th>50%</th>\n",
       "      <td>193.000000</td>\n",
       "      <td>1.000000</td>\n",
       "    </tr>\n",
       "    <tr>\n",
       "      <th>75%</th>\n",
       "      <td>219.000000</td>\n",
       "      <td>2.000000</td>\n",
       "    </tr>\n",
       "    <tr>\n",
       "      <th>max</th>\n",
       "      <td>2344.000000</td>\n",
       "      <td>3.000000</td>\n",
       "    </tr>\n",
       "  </tbody>\n",
       "</table>\n",
       "</div>"
      ],
      "text/plain": [
       "           tot_chole  SMK_stat_type_cd\n",
       "count  991346.000000     991346.000000\n",
       "mean      195.557020          1.608122\n",
       "std        38.660155          0.818507\n",
       "min        30.000000          1.000000\n",
       "25%       169.000000          1.000000\n",
       "50%       193.000000          1.000000\n",
       "75%       219.000000          2.000000\n",
       "max      2344.000000          3.000000"
      ]
     },
     "execution_count": 6,
     "metadata": {},
     "output_type": "execute_result"
    }
   ],
   "source": [
    "df.describe()"
   ]
  },
  {
   "cell_type": "code",
   "execution_count": 7,
   "id": "74c566d6",
   "metadata": {},
   "outputs": [],
   "source": [
    "# X = df.tot_chole.values\n",
    "# Y = df.SMK_stat_type_cd.values\n",
    "\n",
    "# import matplotlib.pyplot as plt\n",
    "# plt.scatter(X, Y, alpha=0.5)\n",
    "# plt.title('SMK_stat_type_cd ~ tot_chole')\n",
    "# plt.xlabel('tot_chole')\n",
    "# plt.ylabel('SMK_stat_type_cd')\n",
    "# plt.show()"
   ]
  },
  {
   "cell_type": "code",
   "execution_count": 8,
   "id": "fde6a5a9",
   "metadata": {
    "scrolled": false
   },
   "outputs": [
    {
     "data": {
      "image/png": "[encoded data removed]",
      "text/plain": [
       "<Figure size 640x480 with 1 Axes>"
      ]
     },
     "metadata": {},
     "output_type": "display_data"
    }
   ],
   "source": [
    "X = df.SMK_stat_type_cd.values\n",
    "Y = df.tot_chole.values\n",
    "\n",
    "import matplotlib.pyplot as plt\n",
    "plt.scatter(X, Y, alpha=0.5)\n",
    "plt.title('tot_chole ~ SMK_stat_type_cd')\n",
    "plt.xlabel('SMK_stat_type_cd')\n",
    "plt.ylabel('tot_chole')\n",
    "plt.show()"
   ]
  },
  {
   "cell_type": "code",
   "execution_count": 9,
   "id": "43205179",
   "metadata": {},
   "outputs": [],
   "source": [
    "# https://ordo.tistory.com/100"
   ]
  },
  {
   "cell_type": "code",
   "execution_count": 10,
   "id": "d1323d92",
   "metadata": {
    "scrolled": false
   },
   "outputs": [],
   "source": [
    "# a[['tot_chole']]"
   ]
  },
  {
   "cell_type": "code",
   "execution_count": 11,
   "id": "4f087990",
   "metadata": {
    "scrolled": true
   },
   "outputs": [
    {
     "data": {
      "text/plain": [
       "tot_chole\n",
       "(27.685, 107.133]         4537\n",
       "(107.133, 184.267]      396201\n",
       "(184.267, 261.4]        542186\n",
       "(261.4, 338.533]         46889\n",
       "(338.533, 415.667]        1352\n",
       "(415.667, 492.8]           118\n",
       "(492.8, 569.933]            21\n",
       "(569.933, 647.067]          11\n",
       "(647.067, 724.2]             7\n",
       "(724.2, 801.333]             5\n",
       "(801.333, 878.467]           1\n",
       "(878.467, 955.6]             1\n",
       "(955.6, 1032.733]            1\n",
       "(1032.733, 1109.867]         0\n",
       "(1109.867, 1187.0]           0\n",
       "(1187.0, 1264.133]           2\n",
       "(1264.133, 1341.267]         3\n",
       "(1341.267, 1418.4]           0\n",
       "(1418.4, 1495.533]           1\n",
       "(1495.533, 1572.667]         0\n",
       "(1572.667, 1649.8]           3\n",
       "(1649.8, 1726.933]           0\n",
       "(1726.933, 1804.067]         1\n",
       "(1804.067, 1881.2]           1\n",
       "(1881.2, 1958.333]           0\n",
       "(1958.333, 2035.467]         1\n",
       "(2035.467, 2112.6]           2\n",
       "(2112.6, 2189.733]           0\n",
       "(2189.733, 2266.867]         1\n",
       "(2266.867, 2344.0]           1\n",
       "Name: count, dtype: int64"
      ]
     },
     "execution_count": 11,
     "metadata": {},
     "output_type": "execute_result"
    },
    {
     "data": {
      "image/png": "[encoded data removed]",
      "text/plain": [
       "<Figure size 640x480 with 1 Axes>"
      ]
     },
     "metadata": {},
     "output_type": "display_data"
    }
   ],
   "source": [
    "plt.hist(a.tot_chole)\n",
    "a.tot_chole.value_counts(bins = 30, sort = False)"
   ]
  },
  {
   "cell_type": "code",
   "execution_count": 12,
   "id": "aef142c1",
   "metadata": {
    "scrolled": true
   },
   "outputs": [
    {
     "data": {
      "text/plain": [
       "HDL_chole\n",
       "(-7.11, 82.09]        934000\n",
       "(82.09, 163.18]        57278\n",
       "(163.18, 244.27]          31\n",
       "(244.27, 325.36]           1\n",
       "(325.36, 406.45]           3\n",
       "                       ...  \n",
       "(7704.55, 7785.64]         0\n",
       "(7785.64, 7866.73]         0\n",
       "(7866.73, 7947.82]         0\n",
       "(7947.82, 8028.91]         0\n",
       "(8028.91, 8110.0]          1\n",
       "Name: count, Length: 100, dtype: int64"
      ]
     },
     "execution_count": 12,
     "metadata": {},
     "output_type": "execute_result"
    },
    {
     "data": {
      "image/png": "[encoded data removed]",
      "text/plain": [
       "<Figure size 640x480 with 1 Axes>"
      ]
     },
     "metadata": {},
     "output_type": "display_data"
    }
   ],
   "source": [
    "plt.hist(a.HDL_chole)\n",
    "a.HDL_chole.value_counts(bins = 100, sort = False)"
   ]
  },
  {
   "cell_type": "code",
   "execution_count": 13,
   "id": "842acc31",
   "metadata": {
    "scrolled": true
   },
   "outputs": [
    {
     "data": {
      "text/html": [
       "<div>\n",
       "<style scoped>\n",
       "    .dataframe tbody tr th:only-of-type {\n",
       "        vertical-align: middle;\n",
       "    }\n",
       "\n",
       "    .dataframe tbody tr th {\n",
       "        vertical-align: top;\n",
       "    }\n",
       "\n",
       "    .dataframe thead th {\n",
       "        text-align: right;\n",
       "    }\n",
       "</style>\n",
       "<table border=\"1\" class=\"dataframe\">\n",
       "  <thead>\n",
       "    <tr style=\"text-align: right;\">\n",
       "      <th></th>\n",
       "      <th>tot_chole</th>\n",
       "      <th>SMK_stat_type_cd</th>\n",
       "    </tr>\n",
       "  </thead>\n",
       "  <tbody>\n",
       "    <tr>\n",
       "      <th>0</th>\n",
       "      <td>193</td>\n",
       "      <td>1</td>\n",
       "    </tr>\n",
       "    <tr>\n",
       "      <th>1</th>\n",
       "      <td>228</td>\n",
       "      <td>3</td>\n",
       "    </tr>\n",
       "    <tr>\n",
       "      <th>2</th>\n",
       "      <td>136</td>\n",
       "      <td>1</td>\n",
       "    </tr>\n",
       "    <tr>\n",
       "      <th>3</th>\n",
       "      <td>201</td>\n",
       "      <td>1</td>\n",
       "    </tr>\n",
       "    <tr>\n",
       "      <th>4</th>\n",
       "      <td>199</td>\n",
       "      <td>1</td>\n",
       "    </tr>\n",
       "    <tr>\n",
       "      <th>...</th>\n",
       "      <td>...</td>\n",
       "      <td>...</td>\n",
       "    </tr>\n",
       "    <tr>\n",
       "      <th>991341</th>\n",
       "      <td>198</td>\n",
       "      <td>1</td>\n",
       "    </tr>\n",
       "    <tr>\n",
       "      <th>991342</th>\n",
       "      <td>133</td>\n",
       "      <td>1</td>\n",
       "    </tr>\n",
       "    <tr>\n",
       "      <th>991343</th>\n",
       "      <td>205</td>\n",
       "      <td>3</td>\n",
       "    </tr>\n",
       "    <tr>\n",
       "      <th>991344</th>\n",
       "      <td>122</td>\n",
       "      <td>1</td>\n",
       "    </tr>\n",
       "    <tr>\n",
       "      <th>991345</th>\n",
       "      <td>225</td>\n",
       "      <td>3</td>\n",
       "    </tr>\n",
       "  </tbody>\n",
       "</table>\n",
       "<p>975133 rows × 2 columns</p>\n",
       "</div>"
      ],
      "text/plain": [
       "        tot_chole  SMK_stat_type_cd\n",
       "0             193                 1\n",
       "1             228                 3\n",
       "2             136                 1\n",
       "3             201                 1\n",
       "4             199                 1\n",
       "...           ...               ...\n",
       "991341        198                 1\n",
       "991342        133                 1\n",
       "991343        205                 3\n",
       "991344        122                 1\n",
       "991345        225                 3\n",
       "\n",
       "[975133 rows x 2 columns]"
      ]
     },
     "execution_count": 13,
     "metadata": {},
     "output_type": "execute_result"
    }
   ],
   "source": [
    "dffa = df.loc[(a['HDL_chole'] >= 30) & (a['HDL_chole'] <= 100)]\n",
    "dffa"
   ]
  },
  {
   "cell_type": "code",
   "execution_count": 14,
   "id": "17bad759",
   "metadata": {
    "scrolled": true
   },
   "outputs": [],
   "source": [
    "# for x in range(0, 100, 10):\n",
    "#     start = x\n",
    "#     end = x+10\n",
    "#     temp = a[(a[\"HDL_chole\"] >= start) & (a[\"HDL_chole\"] < end)]\n",
    "#     print(\"{} < x < {} : {}\".format(start, end, temp[\"HDL_chole\"].mean()))\n",
    "# 각 해당 분포에 따라 평균"
   ]
  },
  {
   "cell_type": "code",
   "execution_count": 15,
   "id": "95623d3e",
   "metadata": {},
   "outputs": [],
   "source": [
    "# def HDL(HDL_chole):\n",
    "#    HDL_chole = (HDL_chole // 10)*10\n",
    "#    return HDL_chole\n",
    "#카테고리 만드는 방법1"
   ]
  },
  {
   "cell_type": "code",
   "execution_count": 16,
   "id": "0b695fa8",
   "metadata": {},
   "outputs": [],
   "source": [
    "# HDL_category = a.HDL_chole.apply(HDL)\n",
    "# HDL_category\n",
    "#카테고리 만드는 방법2"
   ]
  },
  {
   "cell_type": "code",
   "execution_count": 17,
   "id": "f0a07d44",
   "metadata": {
    "scrolled": true
   },
   "outputs": [
    {
     "data": {
      "text/plain": [
       "LDL_chole\n",
       "(-4.119000000000001, 35.12]      5612\n",
       "(35.12, 69.24]                  88012\n",
       "(69.24, 103.36]                313308\n",
       "(103.36, 137.48]               360148\n",
       "(137.48, 171.6]                172773\n",
       "                                ...  \n",
       "(4948.4, 4982.52]                   0\n",
       "(4982.52, 5016.64]                  0\n",
       "(5016.64, 5050.76]                  0\n",
       "(5050.76, 5084.88]                  0\n",
       "(5084.88, 5119.0]                   1\n",
       "Name: count, Length: 150, dtype: int64"
      ]
     },
     "execution_count": 17,
     "metadata": {},
     "output_type": "execute_result"
    },
    {
     "data": {
      "image/png": "[encoded data removed]",
      "text/plain": [
       "<Figure size 640x480 with 1 Axes>"
      ]
     },
     "metadata": {},
     "output_type": "display_data"
    }
   ],
   "source": [
    "plt.hist(a.LDL_chole)\n",
    "a.LDL_chole.value_counts(bins = 150, sort = False)"
   ]
  },
  {
   "cell_type": "code",
   "execution_count": 18,
   "id": "221cff49",
   "metadata": {},
   "outputs": [
    {
     "data": {
      "text/html": [
       "<div>\n",
       "<style scoped>\n",
       "    .dataframe tbody tr th:only-of-type {\n",
       "        vertical-align: middle;\n",
       "    }\n",
       "\n",
       "    .dataframe tbody tr th {\n",
       "        vertical-align: top;\n",
       "    }\n",
       "\n",
       "    .dataframe thead th {\n",
       "        text-align: right;\n",
       "    }\n",
       "</style>\n",
       "<table border=\"1\" class=\"dataframe\">\n",
       "  <thead>\n",
       "    <tr style=\"text-align: right;\">\n",
       "      <th></th>\n",
       "      <th>tot_chole</th>\n",
       "      <th>SMK_stat_type_cd</th>\n",
       "    </tr>\n",
       "  </thead>\n",
       "  <tbody>\n",
       "    <tr>\n",
       "      <th>0</th>\n",
       "      <td>193</td>\n",
       "      <td>1</td>\n",
       "    </tr>\n",
       "    <tr>\n",
       "      <th>1</th>\n",
       "      <td>228</td>\n",
       "      <td>3</td>\n",
       "    </tr>\n",
       "    <tr>\n",
       "      <th>2</th>\n",
       "      <td>136</td>\n",
       "      <td>1</td>\n",
       "    </tr>\n",
       "    <tr>\n",
       "      <th>3</th>\n",
       "      <td>201</td>\n",
       "      <td>1</td>\n",
       "    </tr>\n",
       "    <tr>\n",
       "      <th>4</th>\n",
       "      <td>199</td>\n",
       "      <td>1</td>\n",
       "    </tr>\n",
       "    <tr>\n",
       "      <th>...</th>\n",
       "      <td>...</td>\n",
       "      <td>...</td>\n",
       "    </tr>\n",
       "    <tr>\n",
       "      <th>991341</th>\n",
       "      <td>198</td>\n",
       "      <td>1</td>\n",
       "    </tr>\n",
       "    <tr>\n",
       "      <th>991342</th>\n",
       "      <td>133</td>\n",
       "      <td>1</td>\n",
       "    </tr>\n",
       "    <tr>\n",
       "      <th>991343</th>\n",
       "      <td>205</td>\n",
       "      <td>3</td>\n",
       "    </tr>\n",
       "    <tr>\n",
       "      <th>991344</th>\n",
       "      <td>122</td>\n",
       "      <td>1</td>\n",
       "    </tr>\n",
       "    <tr>\n",
       "      <th>991345</th>\n",
       "      <td>225</td>\n",
       "      <td>3</td>\n",
       "    </tr>\n",
       "  </tbody>\n",
       "</table>\n",
       "<p>958762 rows × 2 columns</p>\n",
       "</div>"
      ],
      "text/plain": [
       "        tot_chole  SMK_stat_type_cd\n",
       "0             193                 1\n",
       "1             228                 3\n",
       "2             136                 1\n",
       "3             201                 1\n",
       "4             199                 1\n",
       "...           ...               ...\n",
       "991341        198                 1\n",
       "991342        133                 1\n",
       "991343        205                 3\n",
       "991344        122                 1\n",
       "991345        225                 3\n",
       "\n",
       "[958762 rows x 2 columns]"
      ]
     },
     "execution_count": 18,
     "metadata": {},
     "output_type": "execute_result"
    }
   ],
   "source": [
    "dffaa = df.loc[(a['LDL_chole'] >= 50) & (a['LDL_chole'] <= 200)]\n",
    "dffaa"
   ]
  },
  {
   "cell_type": "code",
   "execution_count": 19,
   "id": "1c09579f",
   "metadata": {},
   "outputs": [
    {
     "data": {
      "text/html": [
       "<div>\n",
       "<style scoped>\n",
       "    .dataframe tbody tr th:only-of-type {\n",
       "        vertical-align: middle;\n",
       "    }\n",
       "\n",
       "    .dataframe tbody tr th {\n",
       "        vertical-align: top;\n",
       "    }\n",
       "\n",
       "    .dataframe thead th {\n",
       "        text-align: right;\n",
       "    }\n",
       "</style>\n",
       "<table border=\"1\" class=\"dataframe\">\n",
       "  <thead>\n",
       "    <tr style=\"text-align: right;\">\n",
       "      <th></th>\n",
       "      <th>tot_chole</th>\n",
       "      <th>SMK_stat_type_cd</th>\n",
       "    </tr>\n",
       "  </thead>\n",
       "  <tbody>\n",
       "    <tr>\n",
       "      <th>0</th>\n",
       "      <td>193</td>\n",
       "      <td>1</td>\n",
       "    </tr>\n",
       "    <tr>\n",
       "      <th>1</th>\n",
       "      <td>228</td>\n",
       "      <td>3</td>\n",
       "    </tr>\n",
       "    <tr>\n",
       "      <th>2</th>\n",
       "      <td>136</td>\n",
       "      <td>1</td>\n",
       "    </tr>\n",
       "    <tr>\n",
       "      <th>3</th>\n",
       "      <td>201</td>\n",
       "      <td>1</td>\n",
       "    </tr>\n",
       "    <tr>\n",
       "      <th>4</th>\n",
       "      <td>199</td>\n",
       "      <td>1</td>\n",
       "    </tr>\n",
       "    <tr>\n",
       "      <th>...</th>\n",
       "      <td>...</td>\n",
       "      <td>...</td>\n",
       "    </tr>\n",
       "    <tr>\n",
       "      <th>991341</th>\n",
       "      <td>198</td>\n",
       "      <td>1</td>\n",
       "    </tr>\n",
       "    <tr>\n",
       "      <th>991342</th>\n",
       "      <td>133</td>\n",
       "      <td>1</td>\n",
       "    </tr>\n",
       "    <tr>\n",
       "      <th>991343</th>\n",
       "      <td>205</td>\n",
       "      <td>3</td>\n",
       "    </tr>\n",
       "    <tr>\n",
       "      <th>991344</th>\n",
       "      <td>122</td>\n",
       "      <td>1</td>\n",
       "    </tr>\n",
       "    <tr>\n",
       "      <th>991345</th>\n",
       "      <td>225</td>\n",
       "      <td>3</td>\n",
       "    </tr>\n",
       "  </tbody>\n",
       "</table>\n",
       "<p>989841 rows × 2 columns</p>\n",
       "</div>"
      ],
      "text/plain": [
       "        tot_chole  SMK_stat_type_cd\n",
       "0             193                 1\n",
       "1             228                 3\n",
       "2             136                 1\n",
       "3             201                 1\n",
       "4             199                 1\n",
       "...           ...               ...\n",
       "991341        198                 1\n",
       "991342        133                 1\n",
       "991343        205                 3\n",
       "991344        122                 1\n",
       "991345        225                 3\n",
       "\n",
       "[989841 rows x 2 columns]"
      ]
     },
     "execution_count": 19,
     "metadata": {},
     "output_type": "execute_result"
    }
   ],
   "source": [
    "dff = df.loc[(df['tot_chole'] >= 100) & (df['tot_chole'] <= 500)]\n",
    "dff"
   ]
  },
  {
   "cell_type": "code",
   "execution_count": 20,
   "id": "0ab3088a",
   "metadata": {
    "scrolled": true
   },
   "outputs": [
    {
     "data": {
      "image/png": "[encoded data removed]",
      "text/plain": [
       "<Figure size 640x480 with 1 Axes>"
      ]
     },
     "metadata": {},
     "output_type": "display_data"
    }
   ],
   "source": [
    "X = dff.SMK_stat_type_cd.values\n",
    "Y = dff.tot_chole.values\n",
    "\n",
    "import matplotlib.pyplot as plt\n",
    "plt.scatter(X, Y, alpha=0.5)\n",
    "plt.title('tot_chole ~ SMK_stat_type_cd')\n",
    "plt.xlabel('SMK_stat_type_cd')\n",
    "plt.ylabel('tot_chole')\n",
    "plt.show()"
   ]
  },
  {
   "cell_type": "code",
   "execution_count": 21,
   "id": "fe0f5689",
   "metadata": {},
   "outputs": [],
   "source": [
    "dff.to_csv('chole.csv' , encoding = 'euc-kr', index = False)"
   ]
  },
  {
   "cell_type": "code",
   "execution_count": null,
   "id": "d0bb6066",
   "metadata": {},
   "outputs": [],
   "source": []
  }
 ],
 "metadata": {
  "kernelspec": {
   "display_name": "Python 3 (ipykernel)",
   "language": "python",
   "name": "python3"
  },
  "language_info": {
   "codemirror_mode": {
    "name": "ipython",
    "version": 3
   },
   "file_extension": ".py",
   "mimetype": "text/x-python",
   "name": "python",
   "nbconvert_exporter": "python",
   "pygments_lexer": "ipython3",
   "version": "3.11.4"
  }
 },
 "nbformat": 4,
 "nbformat_minor": 5
}
